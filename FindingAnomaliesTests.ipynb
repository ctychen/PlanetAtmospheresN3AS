{
 "cells": [
  {
   "cell_type": "code",
   "execution_count": 1,
   "metadata": {},
   "outputs": [],
   "source": [
    "import os\n",
    "os.environ[\"KERAS_BACKEND\"] = \"torch\" # alternatively you can use jax or tensorflow as the backend (see installation instructions in keras documentation)\n",
    "import keras\n",
    "\n",
    "import numpy as np\n",
    "import matplotlib.pyplot as plt\n",
    "\n",
    "from sklearn.model_selection import train_test_split # helpful for splitting data into training and testing sets\n",
    "from sklearn.preprocessing import StandardScaler, MinMaxScaler # helpful for scaling data to be between 0 and 1 or have a mean of 0 and standard deviation of 1\n"
   ]
  },
  {
   "cell_type": "code",
   "execution_count": 2,
   "metadata": {},
   "outputs": [
    {
     "name": "stdout",
     "output_type": "stream",
     "text": [
      "(153590, 16)\n",
      "(153590, 947)\n"
     ]
    }
   ],
   "source": [
    "file_path = '/Users/ctychen/Desktop/N3AS/spectrum_data/'\n",
    "#reloading data\n",
    "parameters = np.concatenate([np.load(file_path + \"atm_retr_params_12800_\"+str(i)+\".npy\") for i in range(12)])\n",
    "spectra_set = np.concatenate([np.load(file_path + \"atm_retr_data_12800_\"+str(i)+\".npy\") for i in range(12)])\n",
    "\n",
    "#take the log of the spectra - seems like this helped a lot with feature identification\n",
    "spectra_set = np.log(spectra_set)\n",
    "\n",
    "parameters = parameters[~np.isnan(spectra_set).any(axis=1)]\n",
    "spectra_set = spectra_set[~np.isnan(spectra_set).any(axis=1)]\n",
    "\n",
    "print(parameters.shape)\n",
    "print(spectra_set.shape)\n",
    "\n",
    "n_samples = parameters.shape[0]\n",
    "n_features = 947\n",
    "\n",
    "max_log_flux = np.max(spectra_set, axis=1)\n",
    "min_log_flux = np.min(spectra_set, axis=1)\n",
    "spectra_set = (spectra_set - min_log_flux[:, np.newaxis])/(max_log_flux - min_log_flux)[:, np.newaxis]"
   ]
  },
  {
   "cell_type": "markdown",
   "metadata": {},
   "source": [
    "## Moving average on the spectra"
   ]
  },
  {
   "cell_type": "code",
   "execution_count": null,
   "metadata": {},
   "outputs": [],
   "source": [
    "def moving_average(x, n=3):\n",
    "    return np.convolve(x, np.ones(n), 'valid') / n"
   ]
  },
  {
   "cell_type": "code",
   "execution_count": null,
   "metadata": {},
   "outputs": [],
   "source": [
    "averaged_spectra_set = np.array([moving_average(spectra_set[i], n=3) for i in range(n_samples)])"
   ]
  },
  {
   "cell_type": "markdown",
   "metadata": {},
   "source": [
    "## Comparing () - Abs- Diff \n",
    "Trying and comparing max-abs-diff, mean-abs-diff, median-abs-diff... and let's see how they do at finding spectra with weirdness"
   ]
  },
  {
   "cell_type": "code",
   "execution_count": null,
   "metadata": {},
   "outputs": [],
   "source": [
    "#max-abs-diff, for the original spectra set\n",
    "spectra_max_absolute_differences = np.max(np.abs(np.diff(spectra_set, axis=1)), axis=1)    \n",
    "\n"
   ]
  }
 ],
 "metadata": {
  "kernelspec": {
   "display_name": ".venv",
   "language": "python",
   "name": "python3"
  },
  "language_info": {
   "codemirror_mode": {
    "name": "ipython",
    "version": 3
   },
   "file_extension": ".py",
   "mimetype": "text/x-python",
   "name": "python",
   "nbconvert_exporter": "python",
   "pygments_lexer": "ipython3",
   "version": "3.10.13"
  }
 },
 "nbformat": 4,
 "nbformat_minor": 2
}
