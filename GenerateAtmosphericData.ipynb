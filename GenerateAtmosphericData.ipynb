{
 "cells": [
  {
   "cell_type": "code",
   "execution_count": 1,
   "id": "d47ae9af-e790-4e09-80b3-b4043781f3ae",
   "metadata": {
    "tags": []
   },
   "outputs": [],
   "source": [
    "import numpy as np\n",
    "\n",
    "import os\n",
    "os.environ['pRT_input_data_path'] = '/pscratch/sd/m/mkaraman/input_data'\n",
    "os.environ[\"OMP_NUM_THREADS\"] = \"1\"\n",
    "\n",
    "from petitRADTRANS import Radtrans\n",
    "from petitRADTRANS import nat_cst as nc \n",
    "from petitRADTRANS.retrieval.parameter import Parameter\n",
    "from petitRADTRANS.retrieval.models import emission_model_diseq"
   ]
  },
  {
   "cell_type": "code",
   "execution_count": 2,
   "id": "5718633f-ab1d-44ab-a3b7-af80f715da72",
   "metadata": {
    "tags": []
   },
   "outputs": [
    {
     "name": "stderr",
     "output_type": "stream",
     "text": [
      "/global/u2/m/mkaraman/petitRADTRANS/petitRADTRANS/radtrans.py:119: FutureWarning: pRT_input_data_path was set by an environment variable. In a future update, the path to the petitRADTRANS input_data will be set within a .ini file that will be automatically generated into the user home directory (OS agnostic), inside a .petitradtrans directory\n",
      "  warnings.warn(f\"pRT_input_data_path was set by an environment variable. In a future update, the path to \"\n"
     ]
    },
    {
     "name": "stdout",
     "output_type": "stream",
     "text": [
      "Emission scattering is enabled: enforcing test_ck_shuffle_comp = True\n",
      "  Read line opacities of H2O_HITEMP...\n",
      "  Read line opacities of CO_all_iso_HITEMP...\n",
      "  Read line opacities of CH4...\n",
      " Done.\n",
      "  Read line opacities of NH3...\n",
      " Done.\n",
      "  Read line opacities of CO2...\n",
      " Done.\n",
      "  Read line opacities of H2S...\n",
      " Done.\n",
      "  Read line opacities of VO...\n",
      " Done.\n",
      "  Read line opacities of TiO_all_Exomol...\n",
      "  Read line opacities of PH3...\n",
      " Done.\n",
      "  Read line opacities of Na_allard...\n",
      "  Read line opacities of K_allard...\n",
      "\n",
      "  Read in opacity of cloud species MgSiO3 ...\n",
      "  Read in opacity of cloud species Fe ...\n",
      "  Read CIA opacities for H2-H2...\n",
      "  Read CIA opacities for H2-He...\n",
      "Done.\n",
      "\n"
     ]
    }
   ],
   "source": [
    "# Load scattering version of pRT\n",
    "atmosphere = Radtrans(line_species = ['H2O_HITEMP',\n",
    "                                      'CO_all_iso_HITEMP',\n",
    "                                      'CH4',\n",
    "                                      'NH3',\n",
    "                                      'CO2',\n",
    "                                      'H2S',\n",
    "                                      'VO',\n",
    "                                      'TiO_all_Exomol', \n",
    "                                       #'FeH',\n",
    "                                      'PH3',\n",
    "                                      'Na_allard',\n",
    "                                      'K_allard'],\n",
    "                      cloud_species = ['MgSiO3(c)_cd',\"Fe(c)_cd\"],\n",
    "                      rayleigh_species = ['H2', 'He'],\n",
    "                      continuum_opacities = ['H2-H2', 'H2-He'],\n",
    "                      wlen_bords_micron = [0.95, 2.45],\n",
    "                      do_scat_emis = True)\n",
    "\n",
    "pressures = np.logspace(-6, 2, 154)\n",
    "atmosphere.setup_opa_structure(pressures)\n",
    "\n",
    "def Simulator(params): \n",
    "\n",
    "    '''\n",
    "Dictionary of required parameters:\n",
    "                *  D_pl : Distance to the planet in [cm]\n",
    "                *  log_g : Log of surface gravity\n",
    "                *  R_pl : planet radius [cm]\n",
    "                *  T_int : Interior temperature of the planet [K]\n",
    "                *  T3 : Innermost temperature spline [K]\n",
    "                *  T2 : Middle temperature spline [K]\n",
    "                *  T1 : Outer temperature spline [K]\n",
    "                *  alpha : power law index in tau = delta * press_cgs**alpha\n",
    "                *  log_delta : proportionality factor in tau = delta * press_cgs**alpha\n",
    "                *  sigma_lnorm : Width of cloud particle size distribution (log normal)\n",
    "                *  log_pquench : Pressure at which CO, CH4 and H2O abundances become vertically constant\n",
    "                *  Fe/H : Metallicity\n",
    "                *  C/O : Carbon to oxygen ratio\n",
    "                *  log_kzz : Vertical mixing parameter\n",
    "                *  fsed : sedimentation parameter\n",
    "                *  log_X_cb : Scaling factor for equilibrium cloud abundances.\n",
    "                \n",
    "                \n",
    "Parameter  Value         Parameter                     Value\n",
    "T 1        330.6 K       log(X_0 Fe /X_eq Fe)          -0.86\n",
    "T 2        484.7 K       log(X_0 MgSiO3 /X_eq MgSiO3)  -0.65\n",
    "T 3        687.6 K       fsed                           3\n",
    "log(δ)     -7.51         log(K zz /cm 2 s −1)           8.5\n",
    "α          1.39          σg                             2\n",
    "T 0        1063.6 K      R_P                            1 R J\n",
    "C/O        0.55          log(g/cm s −2)                 3.75\n",
    "[Fe/H]     0             log(P quench/bar)             -10 \n",
    "\n",
    "C/O, Fe/H, log_pquench, XFe, XMgSiO3, fsed, log_kzz, sigma_lnorm, log_g, R_pl,\n",
    "T_int, T3, T2, T1, alpha, log_delta- Molliere\n",
    "\n",
    "C/O, Fe/H, log_pquench, XFe, XMgSiO3, log_g, R_pl,\n",
    "T_int, T3, T2, T1, alpha, log_delta - me\n",
    "\n",
    "#change the T3, T2, T1 and log delta values in models.py to\n",
    "\n",
    "T1 = parameters['T1'].value                        ########################new\n",
    "T2 = parameters['T2'].value                        ########################new\n",
    "T3 = parameters['T3'].value                        ########################new\n",
    "delta = 10**parameters['log_delta'].value          ########################new\n",
    "\n",
    "before running the TABULATED DATA in the paper M2020\n",
    "\n",
    "'''\n",
    "    \n",
    "    #16 params for simulation.\n",
    "    \n",
    "    xCO = params[0]                 # 0.55\n",
    "    FeH = params[1]                # 0.\n",
    "    log_pquench = params[2]        # -10.\n",
    "    XFe = params[3]                # -0.86\n",
    "    XMgSiO3 = params[4]            # -0.65\n",
    "    fsed = params[5]               # 3. \n",
    "    log_kzz = params[6]            # 8.5\n",
    "    sigma_lnorm = params[7]        # 2.\n",
    "    log_g = params[8]              # 3.75\n",
    "    R_pl = params[9]               # 1\n",
    "    T_int = params[10]             # 1063.6\n",
    "    xT3 = params[11]                # 687.6 \n",
    "    xT2 = params[12]                # 484.7 \n",
    "    xT1 = params[13]                # 330.6 \n",
    "    alpha = params[14]             # 1.39\n",
    "    log_delta = params[15]         # -7.51\n",
    "\n",
    "    #print(params)\n",
    "        \n",
    "    parameters={}\n",
    "    parameters['D_pl'] = Parameter(name = 'D_pl', is_free_parameter = False, value = 41.2925*nc.pc) \n",
    "    parameters['log_g'] = Parameter(name ='log_g',is_free_parameter = False, value = log_g)\n",
    "    parameters['R_pl'] = Parameter(name = 'R_pl', is_free_parameter = False, value = R_pl* nc.r_jup_mean)\n",
    "    parameters['T_int'] = Parameter(name ='T_int',is_free_parameter = False, value = T_int)\n",
    "    parameters['T3'] = Parameter(name = 'T3', is_free_parameter = False, value = xT3)\n",
    "    parameters['T2'] = Parameter(name ='T2',is_free_parameter = False, value = xT2)\n",
    "    parameters['T1'] = Parameter(name = 'T1', is_free_parameter = False, value = xT1)\n",
    "    parameters['alpha'] = Parameter(name ='alpha',is_free_parameter = False, value = alpha)\n",
    "    parameters['log_delta'] = Parameter(name ='log_delta',is_free_parameter = False, value = log_delta)\n",
    "    parameters['sigma_lnorm'] = Parameter(name ='sigma_lnorm',is_free_parameter = False, value = sigma_lnorm)\n",
    "    parameters['log_pquench'] = Parameter(name ='log_pquench',is_free_parameter = False, value = log_pquench)\n",
    "    parameters['Fe/H'] = Parameter(name ='Fe/H',is_free_parameter = False, value = FeH)\n",
    "    parameters['C/O'] = Parameter(name ='C/O',is_free_parameter = False, value = xCO)\n",
    "    parameters['log_kzz'] = Parameter(name ='log_kzz',is_free_parameter = False, value = log_kzz)\n",
    "    parameters['fsed'] = Parameter(name ='fsed',is_free_parameter = False, value = fsed)\n",
    "    parameters['log_X_cb'+ '_Fe(c)'] = Parameter(name ='log_X_cb'+'_Fe(c)',is_free_parameter = False, value = XFe)\n",
    "    parameters['log_X_cb'+'_MgSiO3(c)'] = Parameter(name ='log_X_cb'+'_MgSiO3(c)',is_free_parameter = False, value = XMgSiO3)\n",
    "    parameters['pressure_scaling'] = Parameter(name ='pressure_scaling',is_free_parameter = False, value = 10)\n",
    "    parameters['pressure_width'] = Parameter(name ='pressure_width',is_free_parameter = False, value = 3)\n",
    "    parameters['pressure_simple'] = Parameter(name ='pressure_simple',is_free_parameter = False, value = 100)\n",
    "    \n",
    "    return emission_model_diseq(atmosphere, parameters, AMR = True)"
   ]
  },
  {
   "cell_type": "code",
   "execution_count": 3,
   "id": "da8573eb-1fae-4d95-a340-78bf2f244b08",
   "metadata": {
    "tags": []
   },
   "outputs": [],
   "source": [
    "low = np.array([0.1, -1.5, -6.0, -3.5, -3.5, 1.0, 5.0, 1.05, 2.0, 0.7, 300.0, 0., 0., 0.,1., 0. ])\n",
    "high = np.array([1.6, 1.5, 3.0, 4.5, 4.5, 11.0, 13.0, 3.0, 5.5, 2.0, 2300.0, 1., 1., 1., 2., 1. ])\n",
    "\n",
    "sigma = 1.25754e-17 #* 1e16"
   ]
  },
  {
   "cell_type": "code",
   "execution_count": null,
   "id": "495469b5-146e-4eb2-83d4-6a6d94076665",
   "metadata": {
    "tags": []
   },
   "outputs": [
    {
     "name": "stdout",
     "output_type": "stream",
     "text": [
      "Start! 70\n"
     ]
    },
    {
     "name": "stderr",
     "output_type": "stream",
     "text": [
      "/global/u2/m/mkaraman/petitRADTRANS/petitRADTRANS/radtrans.py:2181: RuntimeWarning: divide by zero encountered in divide\n",
      "  3.0\n",
      "/global/u2/m/mkaraman/petitRADTRANS/petitRADTRANS/radtrans.py:2188: RuntimeWarning: divide by zero encountered in log\n",
      "  diff = np.log(cloud_radii[:, None, None]) - np.log(r_g)\n",
      "/global/u2/m/mkaraman/petitRADTRANS/petitRADTRANS/radtrans.py:2190: RuntimeWarning: invalid value encountered in multiply\n",
      "  n\n"
     ]
    },
    {
     "name": "stdout",
     "output_type": "stream",
     "text": [
      "Region of zero opacity detected, setting the photon destruction probability in this spectral range to 1.\n"
     ]
    },
    {
     "name": "stderr",
     "output_type": "stream",
     "text": [
      "/global/u2/m/mkaraman/petitRADTRANS/petitRADTRANS/radtrans.py:1391: UserWarning: Cloud rescaling lead to nan opacities, skipping RT calculation!\n",
      "  warnings.warn(\"Cloud rescaling lead to nan opacities, skipping RT calculation!\")\n",
      "/global/u2/m/mkaraman/petitRADTRANS/petitRADTRANS/radtrans.py:2181: RuntimeWarning: divide by zero encountered in divide\n",
      "  3.0\n",
      "/global/u2/m/mkaraman/petitRADTRANS/petitRADTRANS/radtrans.py:2190: RuntimeWarning: invalid value encountered in multiply\n",
      "  n\n"
     ]
    },
    {
     "name": "stdout",
     "output_type": "stream",
     "text": [
      "Region of zero opacity detected, setting the photon destruction probability in this spectral range to 1.\n"
     ]
    },
    {
     "name": "stderr",
     "output_type": "stream",
     "text": [
      "/global/u2/m/mkaraman/petitRADTRANS/petitRADTRANS/radtrans.py:1391: UserWarning: Cloud rescaling lead to nan opacities, skipping RT calculation!\n",
      "  warnings.warn(\"Cloud rescaling lead to nan opacities, skipping RT calculation!\")\n",
      "/global/u2/m/mkaraman/petitRADTRANS/petitRADTRANS/radtrans.py:2184: RuntimeWarning: overflow encountered in power\n",
      "  / (4.0 * np.pi * rho_p * (r_g ** 3))\n"
     ]
    },
    {
     "name": "stdout",
     "output_type": "stream",
     "text": [
      "385.55579710006714\n",
      "Done! 70\n",
      "Start! 71\n"
     ]
    },
    {
     "name": "stderr",
     "output_type": "stream",
     "text": [
      "/global/u2/m/mkaraman/petitRADTRANS/petitRADTRANS/radtrans.py:2184: RuntimeWarning: overflow encountered in power\n",
      "  / (4.0 * np.pi * rho_p * (r_g ** 3))\n",
      "/global/u2/m/mkaraman/petitRADTRANS/petitRADTRANS/radtrans.py:2181: RuntimeWarning: invalid value encountered in divide\n",
      "  3.0\n",
      "/global/u2/m/mkaraman/petitRADTRANS/petitRADTRANS/radtrans.py:2188: RuntimeWarning: divide by zero encountered in log\n",
      "  diff = np.log(cloud_radii[:, None, None]) - np.log(r_g)\n"
     ]
    },
    {
     "name": "stdout",
     "output_type": "stream",
     "text": [
      "Region of zero opacity detected, setting the photon destruction probability in this spectral range to 1.\n"
     ]
    },
    {
     "name": "stderr",
     "output_type": "stream",
     "text": [
      "/global/u2/m/mkaraman/petitRADTRANS/petitRADTRANS/radtrans.py:1391: UserWarning: Cloud rescaling lead to nan opacities, skipping RT calculation!\n",
      "  warnings.warn(\"Cloud rescaling lead to nan opacities, skipping RT calculation!\")\n",
      "/global/u2/m/mkaraman/petitRADTRANS/petitRADTRANS/radtrans.py:2181: RuntimeWarning: invalid value encountered in divide\n",
      "  3.0\n"
     ]
    },
    {
     "name": "stdout",
     "output_type": "stream",
     "text": [
      "Region of zero opacity detected, setting the photon destruction probability in this spectral range to 1.\n"
     ]
    },
    {
     "name": "stderr",
     "output_type": "stream",
     "text": [
      "/global/u2/m/mkaraman/petitRADTRANS/petitRADTRANS/radtrans.py:1391: UserWarning: Cloud rescaling lead to nan opacities, skipping RT calculation!\n",
      "  warnings.warn(\"Cloud rescaling lead to nan opacities, skipping RT calculation!\")\n",
      "/global/u2/m/mkaraman/petitRADTRANS/petitRADTRANS/radtrans.py:2184: RuntimeWarning: overflow encountered in power\n",
      "  / (4.0 * np.pi * rho_p * (r_g ** 3))\n",
      "/global/u2/m/mkaraman/petitRADTRANS/petitRADTRANS/radtrans.py:2184: RuntimeWarning: overflow encountered in power\n",
      "  / (4.0 * np.pi * rho_p * (r_g ** 3))\n"
     ]
    },
    {
     "name": "stdout",
     "output_type": "stream",
     "text": [
      "390.21964502334595\n",
      "Done! 71\n",
      "Start! 72\n"
     ]
    },
    {
     "name": "stderr",
     "output_type": "stream",
     "text": [
      "/global/u2/m/mkaraman/petitRADTRANS/petitRADTRANS/radtrans.py:2181: RuntimeWarning: divide by zero encountered in divide\n",
      "  3.0\n",
      "/global/u2/m/mkaraman/petitRADTRANS/petitRADTRANS/radtrans.py:2190: RuntimeWarning: invalid value encountered in multiply\n",
      "  n\n"
     ]
    },
    {
     "name": "stdout",
     "output_type": "stream",
     "text": [
      "Region of zero opacity detected, setting the photon destruction probability in this spectral range to 1.\n"
     ]
    },
    {
     "name": "stderr",
     "output_type": "stream",
     "text": [
      "/global/u2/m/mkaraman/petitRADTRANS/petitRADTRANS/radtrans.py:1391: UserWarning: Cloud rescaling lead to nan opacities, skipping RT calculation!\n",
      "  warnings.warn(\"Cloud rescaling lead to nan opacities, skipping RT calculation!\")\n"
     ]
    },
    {
     "name": "stdout",
     "output_type": "stream",
     "text": [
      "410.4537208080292\n",
      "Done! 72\n",
      "Start! 73\n"
     ]
    },
    {
     "name": "stderr",
     "output_type": "stream",
     "text": [
      "/global/u2/m/mkaraman/petitRADTRANS/petitRADTRANS/radtrans.py:2181: RuntimeWarning: divide by zero encountered in divide\n",
      "  3.0\n",
      "/global/u2/m/mkaraman/petitRADTRANS/petitRADTRANS/radtrans.py:2188: RuntimeWarning: divide by zero encountered in log\n",
      "  diff = np.log(cloud_radii[:, None, None]) - np.log(r_g)\n",
      "/global/u2/m/mkaraman/petitRADTRANS/petitRADTRANS/radtrans.py:2190: RuntimeWarning: invalid value encountered in multiply\n",
      "  n\n"
     ]
    },
    {
     "name": "stdout",
     "output_type": "stream",
     "text": [
      "Region of zero opacity detected, setting the photon destruction probability in this spectral range to 1.\n"
     ]
    },
    {
     "name": "stderr",
     "output_type": "stream",
     "text": [
      "/global/u2/m/mkaraman/petitRADTRANS/petitRADTRANS/radtrans.py:1391: UserWarning: Cloud rescaling lead to nan opacities, skipping RT calculation!\n",
      "  warnings.warn(\"Cloud rescaling lead to nan opacities, skipping RT calculation!\")\n",
      "/global/u2/m/mkaraman/petitRADTRANS/petitRADTRANS/radtrans.py:2184: RuntimeWarning: overflow encountered in power\n",
      "  / (4.0 * np.pi * rho_p * (r_g ** 3))\n",
      "/global/u2/m/mkaraman/petitRADTRANS/petitRADTRANS/radtrans.py:2184: RuntimeWarning: overflow encountered in power\n",
      "  / (4.0 * np.pi * rho_p * (r_g ** 3))\n",
      "/global/u2/m/mkaraman/petitRADTRANS/petitRADTRANS/radtrans.py:2181: RuntimeWarning: divide by zero encountered in divide\n",
      "  3.0\n",
      "/global/u2/m/mkaraman/petitRADTRANS/petitRADTRANS/radtrans.py:2190: RuntimeWarning: invalid value encountered in multiply\n",
      "  n\n"
     ]
    },
    {
     "name": "stdout",
     "output_type": "stream",
     "text": [
      "Region of zero opacity detected, setting the photon destruction probability in this spectral range to 1.\n"
     ]
    },
    {
     "name": "stderr",
     "output_type": "stream",
     "text": [
      "/global/u2/m/mkaraman/petitRADTRANS/petitRADTRANS/radtrans.py:1391: UserWarning: Cloud rescaling lead to nan opacities, skipping RT calculation!\n",
      "  warnings.warn(\"Cloud rescaling lead to nan opacities, skipping RT calculation!\")\n",
      "/global/u2/m/mkaraman/petitRADTRANS/petitRADTRANS/radtrans.py:2184: RuntimeWarning: overflow encountered in power\n",
      "  / (4.0 * np.pi * rho_p * (r_g ** 3))\n",
      "/global/u2/m/mkaraman/petitRADTRANS/petitRADTRANS/radtrans.py:2181: RuntimeWarning: invalid value encountered in divide\n",
      "  3.0\n"
     ]
    },
    {
     "name": "stdout",
     "output_type": "stream",
     "text": [
      "Region of zero opacity detected, setting the photon destruction probability in this spectral range to 1.\n"
     ]
    },
    {
     "name": "stderr",
     "output_type": "stream",
     "text": [
      "/global/u2/m/mkaraman/petitRADTRANS/petitRADTRANS/radtrans.py:1391: UserWarning: Cloud rescaling lead to nan opacities, skipping RT calculation!\n",
      "  warnings.warn(\"Cloud rescaling lead to nan opacities, skipping RT calculation!\")\n"
     ]
    },
    {
     "name": "stdout",
     "output_type": "stream",
     "text": [
      "389.6868052482605\n",
      "Done! 73\n",
      "Start! 74\n"
     ]
    },
    {
     "name": "stderr",
     "output_type": "stream",
     "text": [
      "/global/u2/m/mkaraman/petitRADTRANS/petitRADTRANS/radtrans.py:2184: RuntimeWarning: overflow encountered in power\n",
      "  / (4.0 * np.pi * rho_p * (r_g ** 3))\n",
      "/global/u2/m/mkaraman/petitRADTRANS/petitRADTRANS/radtrans.py:2181: RuntimeWarning: divide by zero encountered in divide\n",
      "  3.0\n",
      "/global/u2/m/mkaraman/petitRADTRANS/petitRADTRANS/radtrans.py:2190: RuntimeWarning: invalid value encountered in multiply\n",
      "  n\n"
     ]
    },
    {
     "name": "stdout",
     "output_type": "stream",
     "text": [
      "Region of zero opacity detected, setting the photon destruction probability in this spectral range to 1.\n"
     ]
    },
    {
     "name": "stderr",
     "output_type": "stream",
     "text": [
      "/global/u2/m/mkaraman/petitRADTRANS/petitRADTRANS/radtrans.py:1391: UserWarning: Cloud rescaling lead to nan opacities, skipping RT calculation!\n",
      "  warnings.warn(\"Cloud rescaling lead to nan opacities, skipping RT calculation!\")\n",
      "/global/u2/m/mkaraman/petitRADTRANS/petitRADTRANS/radtrans.py:2184: RuntimeWarning: overflow encountered in power\n",
      "  / (4.0 * np.pi * rho_p * (r_g ** 3))\n"
     ]
    },
    {
     "name": "stdout",
     "output_type": "stream",
     "text": [
      "396.34586668014526\n",
      "Done! 74\n",
      "Start! 75\n"
     ]
    },
    {
     "name": "stderr",
     "output_type": "stream",
     "text": [
      "/global/u2/m/mkaraman/petitRADTRANS/petitRADTRANS/radtrans.py:2184: RuntimeWarning: overflow encountered in power\n",
      "  / (4.0 * np.pi * rho_p * (r_g ** 3))\n",
      "/global/u2/m/mkaraman/petitRADTRANS/petitRADTRANS/radtrans.py:2184: RuntimeWarning: overflow encountered in power\n",
      "  / (4.0 * np.pi * rho_p * (r_g ** 3))\n",
      "/global/u2/m/mkaraman/petitRADTRANS/petitRADTRANS/radtrans.py:2181: RuntimeWarning: invalid value encountered in divide\n",
      "  3.0\n"
     ]
    },
    {
     "name": "stdout",
     "output_type": "stream",
     "text": [
      "Region of zero opacity detected, setting the photon destruction probability in this spectral range to 1.\n"
     ]
    },
    {
     "name": "stderr",
     "output_type": "stream",
     "text": [
      "/global/u2/m/mkaraman/petitRADTRANS/petitRADTRANS/radtrans.py:1391: UserWarning: Cloud rescaling lead to nan opacities, skipping RT calculation!\n",
      "  warnings.warn(\"Cloud rescaling lead to nan opacities, skipping RT calculation!\")\n"
     ]
    },
    {
     "name": "stdout",
     "output_type": "stream",
     "text": [
      "391.45222997665405\n",
      "Done! 75\n",
      "Start! 76\n"
     ]
    },
    {
     "name": "stderr",
     "output_type": "stream",
     "text": [
      "/global/u2/m/mkaraman/petitRADTRANS/petitRADTRANS/radtrans.py:2184: RuntimeWarning: overflow encountered in power\n",
      "  / (4.0 * np.pi * rho_p * (r_g ** 3))\n",
      "/global/u2/m/mkaraman/petitRADTRANS/petitRADTRANS/radtrans.py:2184: RuntimeWarning: overflow encountered in power\n",
      "  / (4.0 * np.pi * rho_p * (r_g ** 3))\n",
      "/global/u2/m/mkaraman/petitRADTRANS/petitRADTRANS/radtrans.py:2184: RuntimeWarning: overflow encountered in power\n",
      "  / (4.0 * np.pi * rho_p * (r_g ** 3))\n"
     ]
    }
   ],
   "source": [
    "seeds = np.arange(70,100)\n",
    "\n",
    "for seed in seeds:\n",
    "    n_prior_samples = 12800\n",
    "    np.random.seed(seed)\n",
    "    prior_samples = np.random.uniform(low, high, size = (n_prior_samples,16))\n",
    "\n",
    "    from multiprocess import Pool\n",
    "    import time\n",
    "\n",
    "    print(\"Start!\", seed)\n",
    "\n",
    "    t0 = time.time()\n",
    "    with Pool(128) as p:\n",
    "        obs = list(p.map(Simulator, prior_samples))\n",
    "    print(time.time()-t0)\n",
    "\n",
    "    data = np.array(obs)[:,1,:]\n",
    "\n",
    "    np.save(\"output/atm_retr_data_12800_\"+str(seed)+\".npy\", data)\n",
    "    np.save(\"output/atm_retr_params_12800_\"+str(seed)+\".npy\", prior_samples)\n",
    "\n",
    "    print(\"Done!\", seed)"
   ]
  },
  {
   "cell_type": "code",
   "execution_count": null,
   "id": "ce37764c-fbe1-4417-b11e-0fed867f3feb",
   "metadata": {},
   "outputs": [],
   "source": []
  }
 ],
 "metadata": {
  "kernelspec": {
   "display_name": "NERSC Python",
   "language": "python",
   "name": "python3"
  },
  "language_info": {
   "codemirror_mode": {
    "name": "ipython",
    "version": 3
   },
   "file_extension": ".py",
   "mimetype": "text/x-python",
   "name": "python",
   "nbconvert_exporter": "python",
   "pygments_lexer": "ipython3",
   "version": "3.11.7"
  }
 },
 "nbformat": 4,
 "nbformat_minor": 5
}
